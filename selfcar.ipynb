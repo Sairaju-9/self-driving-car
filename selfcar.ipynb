{
 "cells": [
  {
   "cell_type": "code",
   "execution_count": 2,
   "metadata": {},
   "outputs": [],
   "source": [
    "import os \n",
    "from itertools import islice \n",
    "from scipy import pi \n",
    "import numpy as np"
   ]
  },
  {
   "cell_type": "code",
   "execution_count": 3,
   "metadata": {},
   "outputs": [],
   "source": [
    "Data_folder = './driving_dataset'"
   ]
  },
  {
   "cell_type": "code",
   "execution_count": 5,
   "metadata": {},
   "outputs": [],
   "source": [
    "TRAIN_FILE = os.path.join(Data_folder, 'data.txt')\n",
    "\n",
    "split = 0.8\n",
    "x = []\n",
    "y = []\n",
    "\n",
    "with open(TRAIN_FILE) as fp:\n",
    "  for line in islice(fp,None):\n",
    "    path, angle = line.strip().split()\n",
    "    full_path = os.path.join(Data_folder, path)\n",
    "\n",
    "    x.append(full_path)\n",
    "    y.append(float(angle)*pi/100)\n",
    "\n",
    "y = np.array(y)    "
   ]
  },
  {
   "cell_type": "code",
   "execution_count": 7,
   "metadata": {},
   "outputs": [
    {
     "data": {
      "text/plain": [
       "array([0.        , 0.        , 0.        , ..., 0.06974336, 0.06974336,\n",
       "       0.        ])"
      ]
     },
     "execution_count": 7,
     "metadata": {},
     "output_type": "execute_result"
    }
   ],
   "source": [
    "y"
   ]
  },
  {
   "cell_type": "code",
   "execution_count": 8,
   "metadata": {},
   "outputs": [
    {
     "data": {
      "text/plain": [
       "45406"
      ]
     },
     "execution_count": 8,
     "metadata": {},
     "output_type": "execute_result"
    }
   ],
   "source": [
    "len(y)"
   ]
  },
  {
   "cell_type": "code",
   "execution_count": 9,
   "metadata": {},
   "outputs": [],
   "source": [
    "split_index = int(split*len(y))"
   ]
  },
  {
   "cell_type": "code",
   "execution_count": 10,
   "metadata": {},
   "outputs": [],
   "source": [
    "train_y = y[:split_index]\n",
    "test_y = y[:split_index]"
   ]
  },
  {
   "cell_type": "code",
   "execution_count": 11,
   "metadata": {},
   "outputs": [],
   "source": [
    "import matplotlib.pyplot as plt"
   ]
  },
  {
   "cell_type": "code",
   "execution_count": 24,
   "metadata": {},
   "outputs": [
    {
     "data": {
      "text/plain": [
       "(array([5.200e+01, 1.600e+01, 2.900e+01, 1.270e+02, 9.400e+01, 1.770e+02,\n",
       "        4.920e+02, 2.550e+02, 6.840e+02, 9.270e+02, 5.439e+03, 1.660e+04,\n",
       "        6.513e+03, 2.538e+03, 7.510e+02, 5.250e+02, 3.090e+02, 1.640e+02,\n",
       "        1.400e+02, 7.600e+01, 2.400e+01, 2.700e+01, 3.300e+01, 4.300e+01,\n",
       "        5.100e+01, 4.700e+01, 5.400e+01, 3.600e+01, 3.800e+01, 1.400e+01,\n",
       "        8.000e+00, 1.000e+01, 1.000e+00, 2.000e+00, 2.000e+00, 2.000e+00,\n",
       "        2.000e+00, 1.000e+00, 0.000e+00, 2.000e+00, 1.000e+00, 1.000e+00,\n",
       "        2.000e+00, 1.000e+00, 2.000e+00, 2.000e+00, 2.000e+00, 1.000e+00,\n",
       "        2.000e+00, 5.000e+00]),\n",
       " array([-4.80255269, -4.39122396, -3.97989524, -3.56856651, -3.15723779,\n",
       "        -2.74590906, -2.33458033, -1.92325161, -1.51192288, -1.10059415,\n",
       "        -0.68926543, -0.2779367 ,  0.13339202,  0.54472075,  0.95604948,\n",
       "         1.3673782 ,  1.77870693,  2.19003565,  2.60136438,  3.01269311,\n",
       "         3.42402183,  3.83535056,  4.24667929,  4.65800801,  5.06933674,\n",
       "         5.48066546,  5.89199419,  6.30332292,  6.71465164,  7.12598037,\n",
       "         7.53730909,  7.94863782,  8.35996655,  8.77129527,  9.182624  ,\n",
       "         9.59395273, 10.00528145, 10.41661018, 10.8279389 , 11.23926763,\n",
       "        11.65059636, 12.06192508, 12.47325381, 12.88458253, 13.29591126,\n",
       "        13.70723999, 14.11856871, 14.52989744, 14.94122616, 15.35255489,\n",
       "        15.76388362]),\n",
       " [<matplotlib.patches.Polygon at 0x21f8c2c3070>])"
      ]
     },
     "execution_count": 24,
     "metadata": {},
     "output_type": "execute_result"
    },
    {
     "data": {
      "image/png": "[encoded data removed]",
      "text/plain": [
       "<Figure size 640x480 with 1 Axes>"
      ]
     },
     "metadata": {},
     "output_type": "display_data"
    }
   ],
   "source": [
    "plt.hist(train_y, color = \"red\", bins = 50, histtype= 'bar')\n",
    "plt.hist(test_y, color = \"blue\", bins = 50, histtype= 'stepfilled')"
   ]
  },
  {
   "cell_type": "code",
   "execution_count": 14,
   "metadata": {},
   "outputs": [],
   "source": [
    "train_mean_y = np.mean(train_y)"
   ]
  },
  {
   "cell_type": "code",
   "execution_count": 15,
   "metadata": {},
   "outputs": [
    {
     "data": {
      "text/plain": [
       "0.062277974822901046"
      ]
     },
     "execution_count": 15,
     "metadata": {},
     "output_type": "execute_result"
    }
   ],
   "source": [
    "train_mean_y"
   ]
  },
  {
   "cell_type": "code",
   "execution_count": 16,
   "metadata": {},
   "outputs": [
    {
     "data": {
      "text/plain": [
       "1.024468988553929"
      ]
     },
     "execution_count": 16,
     "metadata": {},
     "output_type": "execute_result"
    }
   ],
   "source": [
    "np.mean(np.square(test_y - train_mean_y))"
   ]
  },
  {
   "cell_type": "code",
   "execution_count": 17,
   "metadata": {},
   "outputs": [
    {
     "data": {
      "text/plain": [
       "1.028347534701971"
      ]
     },
     "execution_count": 17,
     "metadata": {},
     "output_type": "execute_result"
    }
   ],
   "source": [
    "np.mean(np.square(test_y))"
   ]
  }
 ],
 "metadata": {
  "kernelspec": {
   "display_name": "Python 3",
   "language": "python",
   "name": "python3"
  },
  "language_info": {
   "codemirror_mode": {
    "name": "ipython",
    "version": 3
   },
   "file_extension": ".py",
   "mimetype": "text/x-python",
   "name": "python",
   "nbconvert_exporter": "python",
   "pygments_lexer": "ipython3",
   "version": "3.10.7 (tags/v3.10.7:6cc6b13, Sep  5 2022, 14:08:36) [MSC v.1933 64 bit (AMD64)]"
  },
  "orig_nbformat": 4,
  "vscode": {
   "interpreter": {
    "hash": "0ff1b60d89f777bb6924b8dcfabd0f151f0cf578551e350ae95ace6f32ddaa23"
   }
  }
 },
 "nbformat": 4,
 "nbformat_minor": 2
}
